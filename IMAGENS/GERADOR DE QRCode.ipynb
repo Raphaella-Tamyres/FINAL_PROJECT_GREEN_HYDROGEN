{
 "cells": [
  {
   "cell_type": "code",
   "execution_count": 1,
   "id": "c2e291c6-bd1e-40ce-a04d-a01a7872d6e4",
   "metadata": {},
   "outputs": [
    {
     "name": "stdout",
     "output_type": "stream",
     "text": [
      "Defaulting to user installation because normal site-packages is not writeableNote: you may need to restart the kernel to use updated packages.\n"
     ]
    },
    {
     "name": "stderr",
     "output_type": "stream",
     "text": [
      "WARNING: Ignoring invalid distribution -illow (c:\\users\\raphaella220046\\appdata\\roaming\\python\\python39\\site-packages)\n",
      "WARNING: Ignoring invalid distribution -illow (c:\\users\\raphaella220046\\appdata\\roaming\\python\\python39\\site-packages)\n",
      "WARNING: Ignoring invalid distribution -illow (c:\\users\\raphaella220046\\appdata\\roaming\\python\\python39\\site-packages)\n",
      "  WARNING: The script qr.exe is installed in 'C:\\Users\\raphaella220046\\AppData\\Roaming\\Python\\Python39\\Scripts' which is not on PATH.\n",
      "  Consider adding this directory to PATH or, if you prefer to suppress this warning, use --no-warn-script-location.\n",
      "WARNING: Ignoring invalid distribution -illow (c:\\users\\raphaella220046\\appdata\\roaming\\python\\python39\\site-packages)\n",
      "\n",
      "[notice] A new release of pip is available: 23.1.2 -> 24.3.1\n",
      "[notice] To update, run: python.exe -m pip install --upgrade pip\n"
     ]
    },
    {
     "name": "stdout",
     "output_type": "stream",
     "text": [
      "\n",
      "Collecting qrcode[pil]\n",
      "  Using cached qrcode-8.0-py3-none-any.whl (45 kB)\n",
      "Requirement already satisfied: colorama in c:\\users\\raphaella220046\\appdata\\roaming\\python\\python39\\site-packages (from qrcode[pil]) (0.4.6)\n",
      "Requirement already satisfied: pillow>=9.1.0 in c:\\users\\raphaella220046\\appdata\\roaming\\python\\python39\\site-packages (from qrcode[pil]) (10.2.0)\n",
      "Installing collected packages: qrcode\n",
      "Successfully installed qrcode-8.0\n"
     ]
    }
   ],
   "source": [
    "pip install qrcode[pil]"
   ]
  },
  {
   "cell_type": "code",
   "execution_count": 3,
   "id": "abd5d418-4665-4b58-ab85-2df909ac42f2",
   "metadata": {},
   "outputs": [],
   "source": [
    "import qrcode\n",
    "\n",
    "# URL do GitHub ou qualquer link que você queira gerar o QR Code\n",
    "url = \"https://github.com/Raphaella-Tamyres/FINAL_PROJECT_GREEN_HYDROGEN\"\n",
    "\n",
    "# Gerando o QR Code\n",
    "qr = qrcode.QRCode(\n",
    "    version=1,  # Define o tamanho do QR Code (1 é o menor)\n",
    "    error_correction=qrcode.constants.ERROR_CORRECT_L,  # Define a correção de erros\n",
    "    box_size=10,  # Define o tamanho de cada caixa no QR Code\n",
    "    border=4,  # Define a espessura da borda\n",
    ")\n",
    "\n",
    "qr.add_data(url)\n",
    "qr.make(fit=True)\n",
    "\n",
    "# Criando uma imagem a partir do QR Code gerado\n",
    "img = qr.make_image(fill=\"black\", back_color=\"white\")\n",
    "\n",
    "# Salvando a imagem gerada\n",
    "img.save(\"github_qr_code.png\")\n",
    "\n",
    "# Mostrar a imagem gerada\n",
    "img.show()\n"
   ]
  }
 ],
 "metadata": {
  "kernelspec": {
   "display_name": "Python 3 (ipykernel)",
   "language": "python",
   "name": "python3"
  },
  "language_info": {
   "codemirror_mode": {
    "name": "ipython",
    "version": 3
   },
   "file_extension": ".py",
   "mimetype": "text/x-python",
   "name": "python",
   "nbconvert_exporter": "python",
   "pygments_lexer": "ipython3",
   "version": "3.9.7"
  }
 },
 "nbformat": 4,
 "nbformat_minor": 5
}
